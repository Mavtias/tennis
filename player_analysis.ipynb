{
 "cells": [
  {
   "cell_type": "code",
   "execution_count": 1,
   "metadata": {},
   "outputs": [],
   "source": [
    "import pandas as pd\n",
    "import datetime "
   ]
  },
  {
   "cell_type": "code",
   "execution_count": 2,
   "metadata": {},
   "outputs": [],
   "source": [
    "matches = pd.read_csv('matches.csv', delimiter=',')"
   ]
  },
  {
   "cell_type": "code",
   "execution_count": 8,
   "metadata": {},
   "outputs": [],
   "source": [
    "matches['tourney_date'] = pd.to_datetime(matches['tourney_date'], format='%Y-%m-%d')"
   ]
  },
  {
   "cell_type": "code",
   "execution_count": 3,
   "metadata": {},
   "outputs": [],
   "source": [
    "def career_high(df):\n",
    "    max_rank = df.loc[df['rank'] == df['rank'].min()]\n",
    "    year = max_rank['tourney_date'].dt.year.iloc[0]\n",
    "    \n",
    "    return f'Career High Ranking:\\nReached career high ranking number {max_rank[\"rank\"].iloc[0]} in the year {year}.'\n",
    "\n",
    "def max_rank_points(df):\n",
    "    max_points = df.loc[df['rank_points'] == df['rank_points'].max()]\n",
    "    year = max_points['tourney_date'].dt.year.iloc[0]\n",
    "\n",
    "    return f'Max Rank Points:\\nReached career high ranking points of {max_points[\"rank_points\"].iloc[0]} in the year {year}.'\n",
    "\n",
    "\n",
    "def num_tour_won(df, nombre):\n",
    "    ganados = df[df['round'] == 'F'].loc[df['name'] == nombre, 'tourney_name']\n",
    "    conteo_por_torneo = ganados.value_counts()\n",
    "    total_torneos_ganados = sum(conteo_por_torneo)\n",
    "\n",
    "    return f'Tournaments Won:\\nWon {total_torneos_ganados} tournaments, corresponding to:\\n{conteo_por_torneo.to_string()}.' \n",
    "\n",
    "\n",
    "def mean_svpt_surf(df):\n",
    "    porcentaje = round(df.groupby('surface')['svpt'].mean(),2)\n",
    "\n",
    "    return f'Percentage of won serves in different surfaces are:\\n{porcentaje.to_string(header = False)}'\n",
    "\n",
    "\n",
    "def aces(df):\n",
    "    sum_aces = df.groupby('surface')['ace'].sum()\n",
    "    mean_aces = round(df.groupby('surface')['ace'].mean(),2)\n",
    "\n",
    "    return f'Aces Analysis:\\nThe sum of aces in different surfaces are:\\n{sum_aces.to_string(header = False)}\\n\\nThe mean of aces in different surfaces are:\\n{mean_aces.to_string(header = False)}'\n",
    "\n",
    "\n",
    "def analisis(df, nombre):\n",
    "    df = df[df['name'].str.contains(nombre)]\n",
    "    \n",
    "    high = career_high(df)\n",
    "    rank = max_rank_points(df)\n",
    "    tourn = num_tour_won(df, nombre)\n",
    "    svpt = mean_svpt_surf(df)\n",
    "    ace = aces(df)\n",
    "\n",
    "    return f'{high}\\n\\n{rank}\\n\\n{tourn}\\n\\n{svpt}\\n\\n{ace}'\n",
    "    \n"
   ]
  },
  {
   "cell_type": "code",
   "execution_count": 13,
   "metadata": {},
   "outputs": [
    {
     "name": "stdout",
     "output_type": "stream",
     "text": [
      "Career High Ranking:\n",
      "Reached career high ranking number 1.0 in the year 2011.\n",
      "\n",
      "Max Rank Points:\n",
      "Reached career high ranking points of 16950.0 in the year 2016.\n",
      "\n",
      "Tournaments Won:\n",
      "Won 99 tournaments, corresponding to:\n",
      "tourney_name\n",
      "Australian Open         10\n",
      "Paris Masters            7\n",
      "Wimbledon                7\n",
      "Tour Finals              6\n",
      "Miami Masters            6\n",
      "Rome Masters             6\n",
      "Beijing                  6\n",
      "Dubai                    5\n",
      "Indian Wells Masters     5\n",
      "Shanghai Masters         4\n",
      "Canada Masters           4\n",
      "US Open                  3\n",
      "Madrid Masters           3\n",
      "Cincinnati Masters       3\n",
      "Roland Garros            3\n",
      "Belgrade                 2\n",
      "Monte Carlo Masters      2\n",
      "Doha                     2\n",
      "Atp Cup                  1\n",
      "Tokyo                    1\n",
      "Belgrade 2               1\n",
      "Tel Aviv                 1\n",
      "Astana                   1\n",
      "Adelaide 1               1\n",
      "Amersfoort               1\n",
      "Eastbourne               1\n",
      "Metz                     1\n",
      "Basel                    1\n",
      "Masters Cup              1\n",
      "Estoril                  1\n",
      "Adelaide                 1\n",
      "Vienna                   1\n",
      "Us Open                  1.\n",
      "\n",
      "Percentage of won serves in different surfaces are:\n",
      "Carpet    58.00\n",
      "Clay      75.87\n",
      "Grass     93.55\n",
      "Hard      72.73\n",
      "\n",
      "Aces Analysis:\n",
      "The sum of aces in different surfaces are:\n",
      "Carpet      38.0\n",
      "Clay      1071.0\n",
      "Grass     1069.0\n",
      "Hard      4043.0\n",
      "\n",
      "The mean of aces in different surfaces are:\n",
      "Carpet    6.33\n",
      "Clay      4.03\n",
      "Grass     9.30\n",
      "Hard      5.94\n"
     ]
    }
   ],
   "source": [
    "print(analisis(matches, \"novak djokovic\"))"
   ]
  }
 ],
 "metadata": {
  "kernelspec": {
   "display_name": "Python 3",
   "language": "python",
   "name": "python3"
  },
  "language_info": {
   "codemirror_mode": {
    "name": "ipython",
    "version": 3
   },
   "file_extension": ".py",
   "mimetype": "text/x-python",
   "name": "python",
   "nbconvert_exporter": "python",
   "pygments_lexer": "ipython3",
   "version": "3.12.4"
  }
 },
 "nbformat": 4,
 "nbformat_minor": 2
}
